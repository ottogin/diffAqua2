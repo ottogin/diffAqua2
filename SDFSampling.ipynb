{
 "cells": [
  {
   "cell_type": "code",
   "execution_count": null,
   "id": "790b3db1-705a-40af-b9db-1896953f829a",
   "metadata": {},
   "outputs": [],
   "source": [
    "%load_ext autoreload\n",
    "%autoreload 2\n",
    "\n",
    "import os\n",
    "import igl\n",
    "import math\n",
    "import json\n",
    "import numpy as np\n",
    "from tqdm import tqdm\n",
    "\n",
    "from src import tools"
   ]
  },
  {
   "cell_type": "markdown",
   "id": "194a42b7-98a1-4aeb-9a45-91033c204fc2",
   "metadata": {},
   "source": [
    "## Traverse Data"
   ]
  },
  {
   "cell_type": "code",
   "execution_count": null,
   "id": "edf273f4-a7f1-4fb3-8c19-a478d129f27c",
   "metadata": {},
   "outputs": [],
   "source": [
    "data_root = \"data/WeFish/converted/\"\n",
    "\n",
    "file_paths = []\n",
    "for mesh_name in filter(lambda x: x.endswith(\".stl\"), os.listdir(data_root)):\n",
    "    file_paths.append(os.path.join(data_root, mesh_name))\n",
    "\n",
    "print(f\"Found {len(file_paths)} files\")"
   ]
  },
  {
   "cell_type": "code",
   "execution_count": null,
   "id": "cbe7542d-57f1-49bf-b775-687f5d815b05",
   "metadata": {},
   "outputs": [],
   "source": [
    "def sample_points_around_surface(n_points, verts, faces, sigma=.1):\n",
    "    if n_points == 0:\n",
    "        return np.zeros((0, 3)), np.zeros((0))\n",
    "    b_coors, faces_ids = igl.random_points_on_mesh(n_points, verts, faces)\n",
    "    triangles_coords = verts[faces[faces_ids]]\n",
    "    sampled_points = np.sum(b_coors[:,:,None] * triangles_coords, axis=1) # some over vertices in the triangle\n",
    "    noise = np.random.normal(scale=sigma, size=sampled_points.shape)\n",
    "    sampled_points += noise\n",
    "    return sampled_points\n",
    "\n",
    "def sample_points_bbox(n_points, bbox_scale=1.):\n",
    "    if n_points == 0:\n",
    "        return np.zeros((0, 3)), np.zeros((0))\n",
    "\n",
    "    points = (np.random.random((n_points, 3)) * 2 - 1) * bbox_scale\n",
    "    return points\n",
    "\n",
    "def generate_sdf(verts, faces, bbox_scale=[1., .5, .5], sigma=.1, n_points_surf=80000, n_points_bbox=20000):\n",
    "    points_1 = sample_points_around_surface(n_points_surf, verts, faces, sigma=sigma)\n",
    "    points_2 = sample_points_bbox(n_points_bbox, bbox_scale=bbox_scale)\n",
    "    sampled_points = np.concatenate([points_1, points_2], axis=0)\n",
    "\n",
    "    '''\n",
    "        Distance Types:\n",
    "          igl::SIGNED_DISTANCE_TYPE_PSEUDONORMAL \n",
    "          igl::SIGNED_DISTANCE_TYPE_WINDING_NUMBER\n",
    "          igl::SIGNED_DISTANCE_TYPE_DEFAULT       \n",
    "          igl::SIGNED_DISTANCE_TYPE_UNSIGNED      \n",
    "          igl::SIGNED_DISTANCE_TYPE_FAST_WINDING_NUMBER \n",
    "    '''\n",
    "    sdfs, _, _ = igl.signed_distance(sampled_points, verts, faces, sign_type=4)\n",
    "    return sampled_points, sdfs"
   ]
  },
  {
   "cell_type": "markdown",
   "id": "b5349706-76a9-49d6-a6d7-f15eba47445e",
   "metadata": {},
   "source": [
    "# Generate all SDFs"
   ]
  },
  {
   "cell_type": "code",
   "execution_count": null,
   "id": "7d3ca497-6540-4493-817c-163253add5e5",
   "metadata": {},
   "outputs": [],
   "source": [
    "exp_name = \"wefish_1\"\n",
    "save_root = os.path.join(\"data/sdf\", exp_name)\n",
    "\n",
    "if not os.path.exists(save_root):\n",
    "    os.mkdir(save_root) \n",
    "    os.mkdir(os.path.join(save_root, \"samples\"))\n",
    "\n",
    "mapping = {}\n",
    "saved_names = []    \n",
    "for idx, fp in enumerate(tqdm(file_paths)):\n",
    "    verts,_,_,faces,_,_ = igl.read_obj(fp)\n",
    "    sampled_points, sdfs = generate_sdf(verts, faces)\n",
    "\n",
    "    data = np.concatenate([sampled_points, sdfs[:, None]], axis=1)\n",
    "\n",
    "    output_name = f\"{idx:04d}\"\n",
    "    np.savez(os.path.join(save_root, \"samples\", output_name + \".npz\"), \n",
    "             pos=data[data[:, 3] >= 0],\n",
    "             neg=data[data[:, 3] < 0]\n",
    "            )\n",
    "    \n",
    "    mapping[output_name] = fp\n",
    "    saved_names.append(output_name)\n",
    "\n",
    "with open(os.path.join(save_root, \"mapping.json\"), \"w\") as f:\n",
    "    json.dump(mapping, f)\n",
    "\n",
    "with open(os.path.join(save_root, \"train_split.json\"), \"w\") as f:\n",
    "    json.dump({exp_name: {\"samples\":saved_names}}, f)"
   ]
  },
  {
   "cell_type": "code",
   "execution_count": null,
   "id": "9963dd3c-2693-4dfc-83e0-45c084d13630",
   "metadata": {},
   "outputs": [],
   "source": [
    "# Compress for export\n",
    "! zip -r converted.zip {save_root}"
   ]
  },
  {
   "cell_type": "markdown",
   "id": "d1e423ea-495a-4ab3-bd07-67f59701bb43",
   "metadata": {
    "tags": []
   },
   "source": [
    "# Visualize SDFs"
   ]
  },
  {
   "cell_type": "code",
   "execution_count": null,
   "id": "f17a87e1-f3d0-4029-80b4-d3a98d7d9f31",
   "metadata": {},
   "outputs": [],
   "source": [
    "for shape_idx in np.random.choice(len(file_paths), 2):\n",
    "    verts,_,_,faces,_,_ = igl.read_obj(file_paths[shape_idx])\n",
    "    sampled_points, sdfs = generate_sdf(verts, faces)\n",
    "\n",
    "    traces = []\n",
    "    traces.append(tools.plot_3d_mesh(verts, faces))\n",
    "\n",
    "    filt = np.abs(sdfs) < 1e-3\n",
    "    traces.append(tools.plot_3d_point_cloud(sampled_points[filt], fields=sdfs[filt], n_subsample=2000))\n",
    "    \n",
    "    filt = sdfs < 0.\n",
    "    traces.append(tools.plot_3d_point_cloud(sampled_points[filt], fields=sdfs[filt], n_subsample=2000))\n",
    "    \n",
    "    traces.append(tools.plot_3d_point_cloud(sampled_points, fields=sdfs, n_subsample=2000))\n",
    "\n",
    "    tools.show_grid(*traces)"
   ]
  },
  {
   "cell_type": "markdown",
   "id": "c469049b-122a-44a5-a6ae-1a03dbe642aa",
   "metadata": {},
   "source": [
    "## Training"
   ]
  },
  {
   "cell_type": "code",
   "execution_count": null,
   "id": "16e62264-02d0-4e53-aeee-091c9346a5f9",
   "metadata": {},
   "outputs": [],
   "source": [
    "# Start Training\n",
    "\n",
    "#!CUDA_VISIBLE_DEVICES=5 python external/MeshSDF/train_deep_sdf.py -e runs/wolfish_e32"
   ]
  },
  {
   "cell_type": "code",
   "execution_count": null,
   "id": "415ec759-82ea-44a0-a950-206bdcb49662",
   "metadata": {},
   "outputs": [],
   "source": [
    "import os\n",
    "import torch\n",
    "import plotly.graph_objects as go\n",
    "\n",
    "def load_logs(experiment_directory):\n",
    "\n",
    "    full_filename = os.path.join(experiment_directory, \"Logs.pth\")\n",
    "\n",
    "    if not os.path.isfile(full_filename):\n",
    "        raise Exception('log file \"{}\" does not exist'.format(full_filename))\n",
    "\n",
    "    data = torch.load(full_filename)\n",
    "\n",
    "    return (\n",
    "        data[\"loss\"],\n",
    "        data[\"epoch\"],\n",
    "    )"
   ]
  },
  {
   "cell_type": "code",
   "execution_count": null,
   "id": "b74a41cf-914a-48b0-9389-b52ba8b41d36",
   "metadata": {},
   "outputs": [],
   "source": [
    "run_path = \"runs/wolfish_e16/\"\n",
    "\n",
    "loss = load_logs(run_path)\n",
    "fig = go.Figure()\n",
    "fig.add_trace(go.Scatter(x=list(range(loss[1])), y=loss[0]))\n",
    "fig.show()"
   ]
  },
  {
   "cell_type": "code",
   "execution_count": null,
   "id": "d8e40048-9785-44e1-bff8-fb67695e6e1c",
   "metadata": {},
   "outputs": [],
   "source": [
    "run_path = \"runs/wolfish_e32/\"\n",
    "\n",
    "loss = load_logs(run_path)\n",
    "fig = go.Figure()\n",
    "fig.add_trace(go.Scatter(x=list(range(loss[1])), y=loss[0]))\n",
    "fig.show()"
   ]
  },
  {
   "cell_type": "code",
   "execution_count": null,
   "id": "f108e05b-947a-4fd3-9b1e-47750eebd68a",
   "metadata": {},
   "outputs": [],
   "source": [
    "run_path = \"runs/wolfish_e256/\"\n",
    "\n",
    "loss = load_logs(run_path)\n",
    "fig = go.Figure()\n",
    "fig.add_trace(go.Scatter(x=list(range(loss[1])), y=loss[0]))\n",
    "fig.show()"
   ]
  },
  {
   "cell_type": "code",
   "execution_count": null,
   "id": "a7fdcdd9-f9f8-4f2c-8475-da1b66af78e6",
   "metadata": {},
   "outputs": [],
   "source": []
  }
 ],
 "metadata": {
  "kernelspec": {
   "display_name": "Python [conda env:default]",
   "language": "python",
   "name": "conda-env-default-py"
  },
  "language_info": {
   "codemirror_mode": {
    "name": "ipython",
    "version": 3
   },
   "file_extension": ".py",
   "mimetype": "text/x-python",
   "name": "python",
   "nbconvert_exporter": "python",
   "pygments_lexer": "ipython3",
   "version": "3.9.10"
  }
 },
 "nbformat": 4,
 "nbformat_minor": 5
}
