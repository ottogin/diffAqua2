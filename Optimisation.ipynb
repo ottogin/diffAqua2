{
 "cells": [
  {
   "cell_type": "code",
   "execution_count": 1,
   "id": "bbfee7b5-91d0-468e-aa14-7e851edc1d4b",
   "metadata": {},
   "outputs": [],
   "source": [
    "%load_ext autoreload\n",
    "%autoreload 2\n",
    "\n",
    "import os\n",
    "import torch\n",
    "import time\n",
    "import json\n",
    "import numpy as np\n",
    "\n",
    "from src.sdf_convertion import reconstruct_voxels\n",
    "from src.simulation import simulate"
   ]
  },
  {
   "cell_type": "code",
   "execution_count": 2,
   "id": "af10e488-96e4-4ad9-ba2e-8a384aa6d556",
   "metadata": {},
   "outputs": [],
   "source": [
    "# Load the model\n",
    "\n",
    "import sys\n",
    "sys.path.insert(1, \"external/MeshSDF\")\n",
    "from lib.models.decoder import DeepSDF\n",
    "\n",
    "DEVICE=\"cuda:2\"\n",
    "\n",
    "experiment_dir = \"runs/wolfish_e256/\"\n",
    "\n",
    "specs = json.load(open(os.path.join(experiment_dir, \"specs.json\")))\n",
    "train_mapping = json.load(open(specs[\"TrainSplit\"]))\n",
    "data_mapping = json.load(open(\"/\".join(specs[\"TrainSplit\"].split(\"/\")[:-1] + [\"mapping.json\"])))\n",
    "\n",
    "# Load the model\n",
    "decoder = torch.nn.DataParallel(DeepSDF(specs[\"CodeLength\"],  **specs[\"NetworkSpecs\"]), device_ids=[DEVICE])\n",
    "saved_model_state = torch.load(\n",
    "    os.path.join(experiment_dir, \"ModelParameters\", \"latest.pth\"), map_location=DEVICE\n",
    ")\n",
    "decoder.load_state_dict(saved_model_state[\"model_state_dict\"])\n",
    "decoder = decoder.eval()\n",
    "\n",
    "# Load latent codes\n",
    "orig_latents = torch.load(os.path.join(experiment_dir, \"LatentCodes/latest.pth\"), map_location=DEVICE)[\"latent_codes\"][\"weight\"]"
   ]
  },
  {
   "cell_type": "code",
   "execution_count": 3,
   "id": "3f14d9c8-143e-453a-89ed-88affa0aa6f9",
   "metadata": {},
   "outputs": [],
   "source": [
    "from pathlib import Path\n",
    "import sys\n",
    "import time\n",
    "import math\n",
    "import random\n",
    "import copy\n",
    "from collections import deque\n",
    "from tqdm import trange, tqdm\n",
    "\n",
    "import scipy\n",
    "import scipy.optimize\n",
    "import numpy as np\n",
    "\n",
    "import torch\n",
    "import torch.optim as optim\n",
    "import torch.nn as nn\n",
    "import torch.nn.functional as F\n",
    "\n",
    "import trimesh\n",
    "import pyvista as pv\n",
    "import imageio\n",
    "\n",
    "from diffpd.fem import DeformableHex, HydrodynamicsStateForceHex\n",
    "from diffpd.sim import Sim\n",
    "from diffpd.nn import OpenFoldController\n",
    "from diffpd import transforms\n",
    "from diffpd.mesh import MeshHex"
   ]
  },
  {
   "cell_type": "code",
   "execution_count": 4,
   "id": "db08f1c0-16e9-4151-99bd-c6fd6c354e61",
   "metadata": {},
   "outputs": [],
   "source": [
    "seed = 42\n",
    "pv.start_xvfb()\n",
    "\n",
    "# Mesh parameters.\n",
    "length = 20\n",
    "dx = 1. / length\n",
    "\n",
    "# Hydrodynamics parameters.\n",
    "rho = 1e1\n",
    "v_water = [0, 0, 0]   # Velocity of the water.\n",
    "# Cd_points = (angle, coeff) pairs where angle is normalized to [0, 1].\n",
    "Cd_points = np.array([\n",
    "    [0.0, 0.05],\n",
    "    [0.4, 0.05],\n",
    "    [0.7, 1.85],\n",
    "    [1.0, 2.05],\n",
    "]) # * 1.0\n",
    "# Ct_points = (angle, coeff) pairs where angle is normalized to [-1, 1].\n",
    "Ct_points = np.array([\n",
    "    [-1, -0.8],\n",
    "    [-0.3, -0.5],\n",
    "    [0.3, 0.1],\n",
    "    [1, 2.5],\n",
    "])\n",
    "\n",
    "# FEM parameters.\n",
    "youngs_modulus = 1e6\n",
    "poissons_ratio = 0.45\n",
    "average_density = 1e1\n",
    "dt = 3.33e-3\n",
    "method = 'pd_eigen'\n",
    "options = {\n",
    "    'max_pd_iter': 2000, 'max_ls_iter': 10, 'abs_tol': 1e-4, 'rel_tol': 1e-3,\n",
    "    'verbose': 0, 'thread_ct': 64, 'use_bfgs': 1, 'bfgs_history_size': 10\n",
    "}\n",
    "\n",
    "\n",
    "# def simulate(voxels, num_frames=100):\n",
    "#     random.seed(seed)\n",
    "#     np.random.seed(seed)\n",
    "#     torch.manual_seed(seed)\n",
    "#     # torch.set_default_dtype(torch.float64)"
   ]
  },
  {
   "cell_type": "markdown",
   "id": "7b147f1f-2a21-45a6-a94a-a5a15ebf2bd1",
   "metadata": {},
   "source": [
    "# Optimisation"
   ]
  },
  {
   "cell_type": "code",
   "execution_count": 5,
   "id": "0d938fcf-4a72-4297-9d12-1d58fd7c1926",
   "metadata": {},
   "outputs": [
    {
     "name": "stderr",
     "output_type": "stream",
     "text": [
      "/mnt/arteml/classes/68420/src/sdf_convertion.py:125: UserWarning: To copy construct from a tensor, it is recommended to use sourceTensor.clone().detach() or sourceTensor.clone().detach().requires_grad_(True), rather than torch.tensor(sourceTensor).\n",
      "  return torch.tensor(sdf_values < 0., dtype=torch.float32)\n"
     ]
    }
   ],
   "source": [
    "latent = orig_latents[14]\n",
    "optimizer = torch.optim.Adam([latent], lr=1e-2)\n",
    "voxels = reconstruct_voxels(decoder, latent, N=[64, 32, 32]).numpy()"
   ]
  },
  {
   "cell_type": "code",
   "execution_count": 6,
   "id": "c0af12d0-6d19-4fc5-9f5a-659e076ebdb8",
   "metadata": {},
   "outputs": [],
   "source": [
    "def simmm(voxels):\n",
    "    ## Inint simulator\n",
    "    num_frames = 20\n",
    "\n",
    "    shape = voxels.shape\n",
    "    rest_mesh = MeshHex.load(voxels.clone().detach().numpy(), dx=dx)\n",
    "    transform = []\n",
    "    transform.append(transforms.AddStateForce(\n",
    "        'hydrodynamics', [rho] + v_water + Cd_points.ravel().tolist() + Ct_points.ravel().tolist() + rest_mesh.boundary.ravel().tolist()))\n",
    "\n",
    "    actuator_scale = 0.04\n",
    "    actuator_height = int(shape[2] * actuator_scale)\n",
    "    actuator_width =  int(shape[1] * actuator_scale)\n",
    "    print(10)\n",
    "\n",
    "    all_muscles = []\n",
    "    shared_muscles = []\n",
    "    for z in range(int(shape[2] / 2) - actuator_height, int(shape[2] / 2) + actuator_height):\n",
    "        muscle_pair = []\n",
    "        for y in range(int(shape[1] / 2) - actuator_width, int(shape[1] / 2) + actuator_width):\n",
    "            indices = rest_mesh.cell_indices[int(0.45 * shape[0]):int(0.5 * shape[0]), y, z].tolist()\n",
    "            transform.append(transforms.AddActuationEnergy(1e6, [1.0, 0.0, 0.0], indices))\n",
    "            muscle_pair.append(indices)\n",
    "\n",
    "            # print(indices)\n",
    "        shared_muscles.append(muscle_pair)\n",
    "    all_muscles.append(shared_muscles)\n",
    "\n",
    "    transform = transforms.Compose(transform)\n",
    "\n",
    "    deformable = DeformableHex(\n",
    "        rest_mesh, density=average_density, dt=dt, method=method, options=options,)\n",
    "    deformable = transform(deformable)\n",
    "\n",
    "    dofs = deformable.dofs()\n",
    "    act_dofs = deformable.act_dofs()\n",
    "\n",
    "    q0 = torch.as_tensor(rest_mesh.vertices).view(-1).clone().detach().to(torch.float64)\n",
    "    v0 = torch.zeros(dofs).detach().to(torch.float64)\n",
    "\n",
    "    head_indices = rest_mesh.node_indices[0, 0, 0]\n",
    "\n",
    "    sim = Sim(deformable)\n",
    "    sim.add_default_pd_energies(['corotated'], youngs_modulus, poissons_ratio)\n",
    "\n",
    "    voxel_mesh = q0.clone()\n",
    "    voxel_mesh.requires_grad = True\n",
    "    voxel_mesh = voxel_mesh.to(torch.float64)\n",
    "\n",
    "    controller = OpenFoldController(\n",
    "        deformable, all_muscles,\n",
    "        num_steps=num_frames,\n",
    "        segment_len=1,\n",
    "        init_period=16.0,\n",
    "        init_magnitude=128.0).to(torch.float64)\n",
    "\n",
    "    a = None\n",
    "    q, v = q0, v0\n",
    "\n",
    "    qs, vs = [], []\n",
    "    for a in controller():\n",
    "        q, v = sim(q, v, a, shape=voxel_mesh)\n",
    "\n",
    "        qs.append(q)\n",
    "        vs.append(v)\n",
    "\n",
    "    speed = torch.mean(torch.concatenate(vs).reshape(-1, 3)[:, 0])\n",
    "    return speed"
   ]
  },
  {
   "cell_type": "code",
   "execution_count": 7,
   "id": "03df38d4-f79d-4784-8cd4-cef78e8c8396",
   "metadata": {},
   "outputs": [
    {
     "name": "stdout",
     "output_type": "stream",
     "text": [
      "10\n",
      "#   0 : Fish Speed: 0.0791       Time Elapsed: 7.53\n"
     ]
    }
   ],
   "source": [
    "start_time = time.time()\n",
    "voxels = reconstruct_voxels(decoder, latent, N=[64, 32, 32])\n",
    "\n",
    "for it in range(1):\n",
    "    # optimizer.zero_grad()\n",
    "    \n",
    "    # Forward\n",
    "    speed = simmm(voxels)\n",
    "    loss = -speed\n",
    "    \n",
    "    loss.backward()\n",
    "    # optimizer.step()\n",
    "    \n",
    "    time_elapsed = time.time() - start_time\n",
    "    print(f\"#{it:4d} : Fish Speed: {speed:.4f}       Time Elapsed: {time_elapsed:.2f}\", end='\\n')"
   ]
  },
  {
   "cell_type": "code",
   "execution_count": 10,
   "id": "9ab22666",
   "metadata": {},
   "outputs": [],
   "source": [
    "voxels.grad"
   ]
  }
 ],
 "metadata": {
  "kernelspec": {
   "display_name": "Python 3.8.13",
   "language": "python",
   "name": "python3"
  },
  "language_info": {
   "codemirror_mode": {
    "name": "ipython",
    "version": 3
   },
   "file_extension": ".py",
   "mimetype": "text/x-python",
   "name": "python",
   "nbconvert_exporter": "python",
   "pygments_lexer": "ipython3",
   "version": "3.8.13"
  },
  "vscode": {
   "interpreter": {
    "hash": "4b9a71b5bbee2ef697d884bb5f5e1be80e811be9b3bcd6d85f4a9a9f0536d99c"
   }
  }
 },
 "nbformat": 4,
 "nbformat_minor": 5
}
