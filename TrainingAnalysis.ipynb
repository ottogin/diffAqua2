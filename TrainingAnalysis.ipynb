{
 "cells": [
  {
   "cell_type": "code",
   "execution_count": null,
   "id": "186c5af6-70e4-4b9a-841d-9101e7a46a99",
   "metadata": {},
   "outputs": [],
   "source": [
    "# Start Training\n",
    "\n",
    "#!CUDA_VISIBLE_DEVICES=5 python external/MeshSDF/train_deep_sdf.py -e runs/wolfish_e32"
   ]
  },
  {
   "cell_type": "code",
   "execution_count": null,
   "id": "6918bd6f-aa43-414d-bade-c19bdea3cd32",
   "metadata": {},
   "outputs": [],
   "source": [
    "%load_ext autoreload\n",
    "%autoreload 2\n",
    "\n",
    "import os\n",
    "import igl\n",
    "import torch\n",
    "import json\n",
    "import numpy as np\n",
    "from src import tools\n",
    "import plotly.graph_objects as go\n",
    "from tqdm import tqdm\n",
    "\n",
    "def load_logs(experiment_directory):\n",
    "\n",
    "    full_filename = os.path.join(experiment_directory, \"Logs.pth\")\n",
    "\n",
    "    if not os.path.isfile(full_filename):\n",
    "        raise Exception('log file \"{}\" does not exist'.format(full_filename))\n",
    "\n",
    "    data = torch.load(full_filename)\n",
    "\n",
    "    return (\n",
    "        data[\"loss\"],\n",
    "        data[\"epoch\"],\n",
    "    )"
   ]
  },
  {
   "cell_type": "markdown",
   "id": "7d6ec522-ecd8-44f2-8a7c-a19cd0e5aa99",
   "metadata": {},
   "source": [
    "## Training Log"
   ]
  },
  {
   "cell_type": "code",
   "execution_count": null,
   "id": "89372285-ebaf-4284-95fd-33c4cb773eb8",
   "metadata": {},
   "outputs": [],
   "source": [
    "fig = go.Figure()\n",
    "loss = load_logs(\"runs/wolfish_e16/\")\n",
    "fig.add_trace(go.Scatter(x=list(range(loss[1])), y=loss[0], name=\"Emb 16\"))\n",
    "loss = load_logs(\"runs/wolfish_e32/\")\n",
    "fig.add_trace(go.Scatter(x=list(range(loss[1])), y=loss[0], name=\"Emb 32\"))\n",
    "loss = load_logs(\"runs/wolfish_e256/\")\n",
    "fig.add_trace(go.Scatter(x=list(range(loss[1])), y=loss[0], name=\"Emb 256\"))\n",
    "\n",
    "fig.update_layout(\n",
    "    title=\"DeepSDF Training Curve\",\n",
    "    xaxis_title=\"Epoch\",\n",
    "    yaxis_title=\"Loss\"\n",
    ")\n",
    "fig.show()"
   ]
  },
  {
   "cell_type": "markdown",
   "id": "012f65b4-b7a1-4f3b-bc6e-7bed4585b5b8",
   "metadata": {},
   "source": [
    "## Load Trained Decoder"
   ]
  },
  {
   "cell_type": "code",
   "execution_count": null,
   "id": "c099764b-b378-4e1a-94ff-7af95e261a75",
   "metadata": {},
   "outputs": [],
   "source": [
    "import sys\n",
    "sys.path.insert(1, \"external/MeshSDF\")\n",
    "from lib.models.decoder import DeepSDF\n",
    "\n",
    "DEVICE=\"cuda:2\"\n",
    "\n",
    "experiment_dir = \"runs/wolfish_e256/\"\n",
    "\n",
    "specs = json.load(open(os.path.join(experiment_dir, \"specs.json\")))\n",
    "train_mapping = json.load(open(specs[\"TrainSplit\"]))\n",
    "data_mapping = json.load(open(\"/\".join(specs[\"TrainSplit\"].split(\"/\")[:-1] + [\"mapping.json\"])))\n",
    "\n",
    "# Load the model\n",
    "decoder = torch.nn.DataParallel(DeepSDF(specs[\"CodeLength\"],  **specs[\"NetworkSpecs\"]), device_ids=[DEVICE])\n",
    "saved_model_state = torch.load(\n",
    "    os.path.join(experiment_dir, \"ModelParameters\", \"latest.pth\"), map_location=DEVICE\n",
    ")\n",
    "decoder.load_state_dict(saved_model_state[\"model_state_dict\"])\n",
    "decoder = decoder.eval()\n",
    "\n",
    "# Load latent codes\n",
    "orig_latents = torch.load(os.path.join(experiment_dir, \"LatentCodes/latest.pth\"), map_location=DEVICE)[\"latent_codes\"][\"weight\"]"
   ]
  },
  {
   "cell_type": "markdown",
   "id": "efc954d6-355f-42ec-b943-e350e30b14d9",
   "metadata": {},
   "source": [
    "## Reconstruct 3 random meshes"
   ]
  },
  {
   "cell_type": "code",
   "execution_count": null,
   "id": "8e96ccb4-fa14-4941-beaf-124d111230d4",
   "metadata": {},
   "outputs": [],
   "source": [
    "from src.sdf_convertion import reconstruct_trimesh, reconstruct_voxels\n",
    "\n",
    "latents_ids = [14] #np.random.choice(orig_latents.shape[0], 3)\n",
    "meshes = []\n",
    "\n",
    "for li in tqdm(latents_ids):\n",
    "    \n",
    "    # create_mesh or create_mesh_optim_fast\n",
    "    verts, faces = reconstruct_trimesh(decoder, orig_latents[li], N=[64, 32, 32]) \n",
    "    vox = reconstruct_voxels(decoder, orig_latents[li], N=[128, 64, 64])\n",
    "\n",
    "    meshes.append((verts, faces))"
   ]
  },
  {
   "cell_type": "code",
   "execution_count": null,
   "id": "7488b6c4-b097-4622-87e8-127a46e7bb37",
   "metadata": {},
   "outputs": [],
   "source": [
    "# np.save(\"fish14.npy\", vox.data.cpu().numpy())\n",
    "\n",
    "# Predicted\n",
    "traces = []\n",
    "for m in meshes:    \n",
    "    traces.append(tools.plot_3d_mesh(m[0], m[1]))\n",
    "\n",
    "tools.show_grid(*traces)\n",
    "\n",
    "# GT\n",
    "traces = []\n",
    "for li in latents_ids:\n",
    "    mesh_path = data_mapping[f\"{li:04d}\"]\n",
    "    verts,_,_,faces,_,_ = igl.read_obj(mesh_path)\n",
    "    traces.append(tools.plot_3d_mesh(verts, faces))\n",
    "\n",
    "tools.show_grid(*traces)"
   ]
  },
  {
   "cell_type": "code",
   "execution_count": null,
   "id": "b7ce30f1-927d-426d-bd78-25d097fdd2b4",
   "metadata": {},
   "outputs": [],
   "source": []
  },
  {
   "cell_type": "markdown",
   "id": "75cbace2-20ba-47f3-a29c-a521b0d6e4a2",
   "metadata": {},
   "source": [
    "## Interpolation in latent space"
   ]
  },
  {
   "cell_type": "code",
   "execution_count": null,
   "id": "4d91e6dc-d760-4a40-a6e5-6c693acf7043",
   "metadata": {},
   "outputs": [],
   "source": [
    "steps_num = 5\n",
    "\n",
    "# Shapes to interpolate inbetween\n",
    "# 32 - skat\n",
    "# 15 - ugor\n",
    "# 10 - dolphin\n",
    "# 14 - standart fish\n",
    "# 41 - shark\n",
    "lstart_d, lend_id = np.random.choice(orig_latents.shape[0], 2, replace=False)\n",
    "\n",
    "meshes = []\n",
    "for aint in tqdm(range(steps_num + 1)):\n",
    "    a = aint / steps_num\n",
    "    latent = (1. - a) * orig_latents[lstart_d] + a * orig_latents[lend_id]\n",
    "    # create_mesh or create_mesh_optim_fast \n",
    "    verts, faces, samples, next_indices = create_mesh(decoder, latent, output_mesh=True, N=128, device=DEVICE) \n",
    "\n",
    "    meshes.append((verts, faces))"
   ]
  },
  {
   "cell_type": "code",
   "execution_count": null,
   "id": "5c902994-937d-4bd9-a2d3-f37472717c64",
   "metadata": {},
   "outputs": [],
   "source": [
    "# Predicted\n",
    "traces = []\n",
    "for m in meshes:    \n",
    "    traces.append(tools.plot_3d_mesh(m[0], m[1]))\n",
    "\n",
    "tools.show_grid(*traces)"
   ]
  },
  {
   "cell_type": "code",
   "execution_count": null,
   "id": "286d29bb-090f-441e-a4c7-4365a611e74c",
   "metadata": {},
   "outputs": [],
   "source": []
  }
 ],
 "metadata": {
  "kernelspec": {
   "display_name": "Python [conda env:68420]",
   "language": "python",
   "name": "conda-env-68420-py"
  },
  "language_info": {
   "codemirror_mode": {
    "name": "ipython",
    "version": 3
   },
   "file_extension": ".py",
   "mimetype": "text/x-python",
   "name": "python",
   "nbconvert_exporter": "python",
   "pygments_lexer": "ipython3",
   "version": "3.8.13"
  }
 },
 "nbformat": 4,
 "nbformat_minor": 5
}
