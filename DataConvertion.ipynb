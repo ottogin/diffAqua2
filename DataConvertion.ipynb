{
 "cells": [
  {
   "cell_type": "code",
   "execution_count": null,
   "id": "790b3db1-705a-40af-b9db-1896953f829a",
   "metadata": {},
   "outputs": [],
   "source": [
    "import os\n",
    "import math\n",
    "import numpy as np\n",
    "\n",
    "from collada import Collada\n",
    "\n",
    "from src import tools"
   ]
  },
  {
   "cell_type": "code",
   "execution_count": null,
   "id": "ed8109ec-99af-467f-9363-01b2951c8afa",
   "metadata": {},
   "outputs": [],
   "source": [
    "# Pull data changes\n",
    "! gdown https://drive.google.com/drive/folders/1paJR2dbe9fIMmVpEnY4_308gpfAnP-l4?usp=share_link --folder"
   ]
  },
  {
   "cell_type": "markdown",
   "id": "a77252c1-f339-437d-9a79-5bf16c2e3c57",
   "metadata": {},
   "source": [
    "## WeFish Data"
   ]
  },
  {
   "cell_type": "code",
   "execution_count": null,
   "id": "edf273f4-a7f1-4fb3-8c19-a478d129f27c",
   "metadata": {},
   "outputs": [],
   "source": [
    "## Traverse Data\n",
    "\n",
    "data_root = \"data/WeFish/raw/\"\n",
    "\n",
    "file_paths = []\n",
    "for mesh_d in os.listdir(data_root):\n",
    "    mesh_d_root = os.path.join(data_root, mesh_d)\n",
    "    dae_files = filter(lambda x: x.endswith(\".dae\"), os.listdir(mesh_d_root))\n",
    "    for f_name in dae_files:\n",
    "        file_paths.append(os.path.join(mesh_d_root, f_name))\n",
    "        \n",
    "print(f\"Found {len(file_paths)} files\")"
   ]
  },
  {
   "cell_type": "code",
   "execution_count": null,
   "id": "7cf47f81-002b-4d2b-9b0c-7887a97dd9ef",
   "metadata": {},
   "outputs": [],
   "source": [
    "## Visualize shapes\n",
    "\n",
    "traces = []\n",
    "for idx in np.random.choice(len(file_paths), 3):\n",
    "    mesh = Collada(file_paths[idx])\n",
    "\n",
    "    sub_traces = []\n",
    "\n",
    "    for obj in mesh.geometries:\n",
    "        verts = obj.primitives[0].vertex\n",
    "        faces = obj.primitives[0].indices[:, :, 0]\n",
    "\n",
    "        sub_traces += tools.plot_3d_mesh(verts, faces)\n",
    "    traces.append(sub_traces)\n",
    "\n",
    "tools.show_grid(*traces)"
   ]
  },
  {
   "cell_type": "markdown",
   "id": "1cd74439-d543-44cf-bae5-f622c254110c",
   "metadata": {},
   "source": [
    "### Process shapes"
   ]
  },
  {
   "cell_type": "code",
   "execution_count": null,
   "id": "1452ed25-1005-4839-8f5c-89ba1a060611",
   "metadata": {},
   "outputs": [],
   "source": [
    "# Read all\n",
    "meshes_verts, meshes_faces = [], []\n",
    "for path in file_paths:\n",
    "    mesh = Collada(path)\n",
    "\n",
    "    meshes_verts.append(mesh.geometries[0].primitives[0].vertex)\n",
    "    meshes_faces.append(mesh.geometries[0].primitives[0].indices[:, :, 0])\n",
    "\n",
    "# Min-max center every shape\n",
    "meshes_verts = [x - (x.min(axis=0) + x.max(axis=0)) / 2 for x in meshes_verts]\n",
    "    \n",
    "# Calculate the Bboxes\n",
    "bbox_min = np.concatenate(meshes_verts).min(axis=0)\n",
    "bbox_max = np.concatenate(meshes_verts).max(axis=0)\n",
    "\n",
    "print(f\"Bbox coords from {bbox_min} to {bbox_max}\")\n",
    "\n",
    "scale_factor = math.ceil((bbox_max - bbox_min).max() / 2)\n",
    "print(f\"Scale factor: {scale_factor}\")\n",
    "\n",
    "# Scale everyone to fit [-1, 1] box along the longest dimension\n",
    "meshes_verts = [x / scale_factor for x in meshes_verts]"
   ]
  },
  {
   "cell_type": "code",
   "execution_count": null,
   "id": "f17a87e1-f3d0-4029-80b4-d3a98d7d9f31",
   "metadata": {},
   "outputs": [],
   "source": [
    "## Visualize processed shapes\n",
    "\n",
    "traces = []\n",
    "for idx in np.random.choice(len(file_paths), 3):\n",
    "    verts = meshes_verts[idx]\n",
    "    faces = meshes_faces[idx]\n",
    "\n",
    "    traces.append(tools.plot_3d_mesh(verts, faces))\n",
    "\n",
    "tools.show_grid(*traces)"
   ]
  },
  {
   "cell_type": "markdown",
   "id": "2cf8b5c5-f2f4-4a44-8b41-2a25d6b1d3a3",
   "metadata": {},
   "source": [
    "## Save Shapes"
   ]
  },
  {
   "cell_type": "code",
   "execution_count": null,
   "id": "ef6cfe5c-dff3-4262-b0a5-4838f1a57dc2",
   "metadata": {},
   "outputs": [],
   "source": [
    "save_root = \"data/WeFish/converted/\"\n",
    "\n",
    "for idx in range(len(meshes_verts)):\n",
    "    igl.write_obj(\n",
    "        os.path.join(save_root, f\"{idx:04d}.stl\"),\n",
    "        meshes_verts[idx],\n",
    "        meshes_faces[idx])"
   ]
  },
  {
   "cell_type": "code",
   "execution_count": null,
   "id": "c4a0f152-bc27-4bc2-955c-8a72086794bb",
   "metadata": {},
   "outputs": [],
   "source": [
    "! zip -r converted.zip {save_root} "
   ]
  },
  {
   "cell_type": "code",
   "execution_count": null,
   "id": "90da7d5b-3921-4e02-ad3a-0bc78c2debfe",
   "metadata": {},
   "outputs": [],
   "source": []
  }
 ],
 "metadata": {
  "kernelspec": {
   "display_name": "Python [conda env:68420]",
   "language": "python",
   "name": "conda-env-68420-py"
  },
  "language_info": {
   "codemirror_mode": {
    "name": "ipython",
    "version": 3
   },
   "file_extension": ".py",
   "mimetype": "text/x-python",
   "name": "python",
   "nbconvert_exporter": "python",
   "pygments_lexer": "ipython3",
   "version": "3.8.13"
  }
 },
 "nbformat": 4,
 "nbformat_minor": 5
}
